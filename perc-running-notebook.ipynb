{
 "cells": [
  {
   "cell_type": "markdown",
   "metadata": {},
   "source": [
    "# profet-EMPIARreader-CAKED example notebook\n",
    "\n",
    "In this notebook, there will be examples to showcase how to use the different packages: profet, EMPIARreader and CAKED using the Python API."
   ]
  },
  {
   "cell_type": "markdown",
   "metadata": {},
   "source": [
    "## profet"
   ]
  },
  {
   "cell_type": "code",
   "execution_count": null,
   "metadata": {},
   "outputs": [],
   "source": [
    "import profet\n",
    "\n",
    "ONLY_ALPHAFOLD = \"F4HvG8\"\n",
    "ONLY_PDB = \"7U6Q\"\n",
    "BOTH = \"A0A023FDY8\""
   ]
  },
  {
   "cell_type": "markdown",
   "metadata": {},
   "source": [
    "Create a default fetcher, and check that the current default database is PDB. This means that, by default, the first search will be on the PDB. However, if the structure is not found, the search will then be executed on the AlphaFold database."
   ]
  },
  {
   "cell_type": "code",
   "execution_count": null,
   "metadata": {},
   "outputs": [],
   "source": [
    "fetcher = profet.Fetcher()\n",
    "print('Current default database: ', fetcher.get_default_db())"
   ]
  },
  {
   "cell_type": "markdown",
   "metadata": {},
   "source": [
    "For each of the proteins, check the availability, i.e., check which database has a file for the protein.\n",
    "\n",
    "To get the files, simply run the function `get_file`."
   ]
  },
  {
   "cell_type": "code",
   "execution_count": null,
   "metadata": {},
   "outputs": [],
   "source": [
    "available_only_AF = fetcher.check_db(ONLY_ALPHAFOLD)\n",
    "available_only_pdb = fetcher.check_db(ONLY_PDB)\n",
    "available_both = fetcher.check_db(BOTH)\n",
    "\n",
    "print('Database available for ', ONLY_ALPHAFOLD, ' is ', available_only_AF)\n",
    "print('Database available for ', ONLY_PDB, ' is ', available_only_pdb)\n",
    "print('Databases available for ', BOTH, ' are ', available_both)\n",
    "\n",
    "PDB = fetcher.get_file(ONLY_PDB)\n",
    "AF = fetcher.get_file(ONLY_ALPHAFOLD)\n",
    "from_pdb = fetcher.get_file(BOTH)\n",
    "from_AF = fetcher.get_file(BOTH, db = 'alphafold')"
   ]
  },
  {
   "cell_type": "markdown",
   "metadata": {},
   "source": [
    "Once a structure is downloaded using get file, the signal cleaving function cleave off signal peptides from the `Fetcher` class, compares the sequence of the structure to the UniProt database for any signal peptides included in the structure. It then automatically deletes the signal peptides from the structure. The cleaved structure is saved as a separate file, with the deleted residue positions added to the filename. In the case of no signal peptides being detected, as new file named `structure-ID None.{cif,pdb}` will be saved.\n",
    "\n",
    "This will save `p0a855.pdb` and `p0a855 cleaved 1to21.pdb` to a specified directory."
   ]
  },
  {
   "cell_type": "code",
   "execution_count": null,
   "metadata": {},
   "outputs": [],
   "source": [
    "fetcher.get_file(uniprot_id = \" P0A855 \" , filetype = \" pdb \" , filesave = True , db = \" alphafold \")\n",
    "fetcher.cleave_off_signal_peptides( \" P0A855 \" )"
   ]
  },
  {
   "cell_type": "markdown",
   "metadata": {},
   "source": [
    "To use [Parakeet](https://rosalindfranklininstitute.github.io/parakeet/index.html) for simulations using profet for remote pdb access, please follow the tutorial available [here](https://rosalindfranklininstitute.github.io/parakeet/configuration.html#examples)."
   ]
  },
  {
   "cell_type": "markdown",
   "metadata": {},
   "source": [
    "## EMPIARreader"
   ]
  },
  {
   "cell_type": "markdown",
   "metadata": {},
   "source": []
  }
 ],
 "metadata": {
  "language_info": {
   "name": "python"
  }
 },
 "nbformat": 4,
 "nbformat_minor": 2
}
